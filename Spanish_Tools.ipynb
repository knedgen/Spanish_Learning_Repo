{
 "cells": [
  {
   "cell_type": "code",
   "execution_count": 1,
   "metadata": {},
   "outputs": [],
   "source": [
    "from spantools import Spanish"
   ]
  },
  {
   "cell_type": "code",
   "execution_count": 2,
   "metadata": {},
   "outputs": [
    {
     "name": "stdout",
     "output_type": "stream",
     "text": [
      "Help on module spantools:\n",
      "\n",
      "NAME\n",
      "    spantools - # coding: utf-8\n",
      "\n",
      "CLASSES\n",
      "    builtins.object\n",
      "        Spanish\n",
      "    \n",
      "    class Spanish(builtins.object)\n",
      "     |  Spanish(today, yesterday, week, month, year, span_comp, get_words, Quiz)\n",
      "     |  \n",
      "     |  Methods defined here:\n",
      "     |  \n",
      "     |  Quiz(self)\n",
      "     |  \n",
      "     |  __init__(self, today, yesterday, week, month, year, span_comp, get_words, Quiz)\n",
      "     |      Initialize self.  See help(type(self)) for accurate signature.\n",
      "     |  \n",
      "     |  get_words(self)\n",
      "     |  \n",
      "     |  month(self)\n",
      "     |  \n",
      "     |  span_comp(self)\n",
      "     |  \n",
      "     |  today(self)\n",
      "     |  \n",
      "     |  week(self)\n",
      "     |  \n",
      "     |  year(self)\n",
      "     |  \n",
      "     |  yesterday(self)\n",
      "     |  \n",
      "     |  ----------------------------------------------------------------------\n",
      "     |  Data descriptors defined here:\n",
      "     |  \n",
      "     |  __dict__\n",
      "     |      dictionary for instance variables (if defined)\n",
      "     |  \n",
      "     |  __weakref__\n",
      "     |      list of weak references to the object (if defined)\n",
      "\n",
      "DATA\n",
      "    letters = ['a', 'b', 'c', 'd']\n",
      "    result = <Response [200]>\n",
      "    soup = <!DOCTYPE html>\n",
      "    <html lang=\"en\"><head><meta char...HANDLER));\n",
      "     ...\n",
      "\n",
      "FILE\n",
      "    c:\\users\\matt\\python\\git\\spanish_repo\\spantools.py\n",
      "\n",
      "\n"
     ]
    }
   ],
   "source": [
    "help('spantools')"
   ]
  },
  {
   "cell_type": "code",
   "execution_count": 3,
   "metadata": {},
   "outputs": [
    {
     "name": "stdout",
     "output_type": "stream",
     "text": [
      "Welcome\n",
      "\n",
      "Starting up...\n",
      "\n",
      "\n",
      "Functions:\n",
      "1. Today's Word\n",
      "2. Yesterday's Word\n",
      "3. Words the last week\n",
      "4. Words the last month\n",
      "5. Words the last year\n",
      "6. Exit\n",
      "\n",
      "\n",
      "Which function would you like to use? 1/2/3/4/5/6: 6\n",
      "\n",
      "\n",
      "Shutting down...\n",
      "\n",
      "Gracias!\n"
     ]
    }
   ],
   "source": [
    "Spanish.span_comp(\"\")"
   ]
  },
  {
   "cell_type": "code",
   "execution_count": 3,
   "metadata": {},
   "outputs": [
    {
     "name": "stdout",
     "output_type": "stream",
     "text": [
      "Please enter your name: Matt\n",
      "\n",
      "Gathering words, just a moment please....\n",
      "Total Points:0\n",
      "\n",
      "Question 1) What is the correct translation?\n",
      "Word: badger\n",
      "\n",
      "\n",
      "Choices: \n",
      "a)la bisutería\n",
      "b)el alma gemela\n",
      "c)el tejón\n",
      "d)la baya\n",
      "\n",
      "Enter answer a,b,c or d:\n",
      "Your answer:c\n",
      "\n",
      "\n",
      "Correct, plus 1 point!\n",
      "Total Points:1\n",
      "\n",
      "Play again? y/n: n\n",
      "\n",
      "\n",
      "\n",
      "Matt scored 1 point(s) off of 1 question(s)\n",
      "\n",
      "Saving score...\n",
      "\n",
      "Thanks for playing\n"
     ]
    }
   ],
   "source": [
    "Spanish.Quiz('')"
   ]
  },
  {
   "cell_type": "code",
   "execution_count": null,
   "metadata": {},
   "outputs": [],
   "source": []
  }
 ],
 "metadata": {
  "kernelspec": {
   "display_name": "Python 3",
   "language": "python",
   "name": "python3"
  },
  "language_info": {
   "codemirror_mode": {
    "name": "ipython",
    "version": 3
   },
   "file_extension": ".py",
   "mimetype": "text/x-python",
   "name": "python",
   "nbconvert_exporter": "python",
   "pygments_lexer": "ipython3",
   "version": "3.8.5"
  }
 },
 "nbformat": 4,
 "nbformat_minor": 4
}
