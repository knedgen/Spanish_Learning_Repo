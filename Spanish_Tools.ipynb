{
 "cells": [
  {
   "cell_type": "code",
   "execution_count": 1,
   "metadata": {},
   "outputs": [],
   "source": [
    "from spantools import Spanish"
   ]
  },
  {
   "cell_type": "code",
   "execution_count": 2,
   "metadata": {},
   "outputs": [
    {
     "name": "stdout",
     "output_type": "stream",
     "text": [
      "Help on module spantools:\n",
      "\n",
      "NAME\n",
      "    spantools\n",
      "\n",
      "CLASSES\n",
      "    builtins.object\n",
      "        Spanish\n",
      "    \n",
      "    class Spanish(builtins.object)\n",
      "     |  Spanish(today, yesterday, week, month, year, span_comp, get_words, Quiz)\n",
      "     |  \n",
      "     |  Methods defined here:\n",
      "     |  \n",
      "     |  Quiz(self)\n",
      "     |  \n",
      "     |  __init__(self, today, yesterday, week, month, year, span_comp, get_words, Quiz)\n",
      "     |      Initialize self.  See help(type(self)) for accurate signature.\n",
      "     |  \n",
      "     |  get_words(self)\n",
      "     |  \n",
      "     |  month(self)\n",
      "     |  \n",
      "     |  span_comp(self)\n",
      "     |  \n",
      "     |  today(self)\n",
      "     |  \n",
      "     |  top_percent(self)\n",
      "     |  \n",
      "     |  top_points(self)\n",
      "     |  \n",
      "     |  top_questions(self)\n",
      "     |  \n",
      "     |  week(self)\n",
      "     |  \n",
      "     |  year(self)\n",
      "     |  \n",
      "     |  yesterday(self)\n",
      "     |  \n",
      "     |  ----------------------------------------------------------------------\n",
      "     |  Data descriptors defined here:\n",
      "     |  \n",
      "     |  __dict__\n",
      "     |      dictionary for instance variables (if defined)\n",
      "     |  \n",
      "     |  __weakref__\n",
      "     |      list of weak references to the object (if defined)\n",
      "\n",
      "DATA\n",
      "    letters = ['a', 'b', 'c', 'd']\n",
      "    result = <Response [200]>\n",
      "    soup = <!DOCTYPE html>\n",
      "    <html lang=\"en\"><head><meta char...HANDLER));\n",
      "     ...\n",
      "\n",
      "FILE\n",
      "    c:\\users\\matt\\python\\git\\spanish_repo\\spantools.py\n",
      "\n",
      "\n"
     ]
    }
   ],
   "source": [
    "help('spantools')"
   ]
  },
  {
   "cell_type": "code",
   "execution_count": 3,
   "metadata": {},
   "outputs": [
    {
     "name": "stdout",
     "output_type": "stream",
     "text": [
      "Welcome\n",
      "\n",
      "Starting up...\n",
      "\n",
      "\n",
      "Functions:\n",
      "1. Today's Word\n",
      "2. Yesterday's Word\n",
      "3. Words the last week\n",
      "4. Words the last month\n",
      "5. Words the last year\n",
      "6. Quiz\n",
      "7. Hiscores - Top Points\n",
      "8. Hiscores - Highest Correction %\n",
      "9. Hiscores - Most Questions\n",
      "10. Exit\n",
      "\n",
      "\n",
      "Which function would you like to use? 1/2/3/4/5/6/7/8/9/10: 6\n",
      "\n",
      "\n",
      "\n",
      "Loading...\n",
      "\n",
      "Please enter your name: Knedgen\n",
      "\n",
      "Gathering words, just a moment please....\n",
      "Total Points:0\n",
      "\n",
      "Question 1) What is the correct translation?\n",
      "Word: olive\n",
      "\n",
      "\n",
      "Choices: \n",
      "a)el mechón\n",
      "b)tupido\n",
      "c)la aceituna\n",
      "d)el recordatorio\n",
      "\n",
      "Enter answer a,b,c or d:\n",
      "Your answer:c\n",
      "\n",
      "\n",
      "Correct, plus 1 point!\n",
      "Total Points:1\n",
      "\n",
      "Play again? y/n: n\n",
      "\n",
      "\n",
      "\n",
      "Knedgen scored 1 point(s) off of 1 question(s)\n",
      "\n",
      "Percent Correct:100.0%\n",
      "\n",
      "Saving score...\n",
      "\n",
      "Thanks for playing\n",
      "\n",
      "Functions:\n",
      "1. Today's Word\n",
      "2. Yesterday's Word\n",
      "3. Words the last week\n",
      "4. Words the last month\n",
      "5. Words the last year\n",
      "6. Quiz\n",
      "7. Hiscores - Top Points\n",
      "8. Hiscores - Highest Correction %\n",
      "9. Hiscores - Most Questions\n",
      "10. Exit\n",
      "\n",
      "\n",
      "Which function would you like to use? 1/2/3/4/5/6/7/8/9/10: 7\n",
      "\n",
      "\n",
      "\n",
      "Loading...\n",
      "\n",
      "      Name  Points  Questions  Percent\n",
      "0     Matt       4          4   100.00\n",
      "1     Matt       4          6    66.67\n",
      "2     Matt       3          9    33.33\n",
      "3     Matt       1          1   100.00\n",
      "4  Knedgen       1          1   100.00\n",
      "\n",
      "Functions:\n",
      "1. Today's Word\n",
      "2. Yesterday's Word\n",
      "3. Words the last week\n",
      "4. Words the last month\n",
      "5. Words the last year\n",
      "6. Quiz\n",
      "7. Hiscores - Top Points\n",
      "8. Hiscores - Highest Correction %\n",
      "9. Hiscores - Most Questions\n",
      "10. Exit\n",
      "\n",
      "\n",
      "Which function would you like to use? 1/2/3/4/5/6/7/8/9/10: 10\n",
      "\n",
      "\n",
      "Shutting down...\n",
      "\n",
      "Gracias!\n"
     ]
    }
   ],
   "source": [
    "Spanish.span_comp(\"\")"
   ]
  },
  {
   "cell_type": "code",
   "execution_count": 4,
   "metadata": {},
   "outputs": [
    {
     "name": "stdout",
     "output_type": "stream",
     "text": [
      "      Name  Points  Questions  Percent\n",
      "0     Matt       4          4   100.00\n",
      "1     Matt       1          1   100.00\n",
      "2  Knedgen       1          1   100.00\n",
      "3     Matt       4          6    66.67\n",
      "4     Matt       3          9    33.33\n"
     ]
    }
   ],
   "source": [
    "Spanish.top_percent(\"\")"
   ]
  },
  {
   "cell_type": "code",
   "execution_count": 5,
   "metadata": {},
   "outputs": [
    {
     "name": "stdout",
     "output_type": "stream",
     "text": [
      "      Name  Points  Questions  Percent\n",
      "0     Matt       4          4   100.00\n",
      "1     Matt       4          6    66.67\n",
      "2     Matt       3          9    33.33\n",
      "3     Matt       1          1   100.00\n",
      "4  Knedgen       1          1   100.00\n"
     ]
    }
   ],
   "source": [
    "Spanish.top_points(\"\")"
   ]
  },
  {
   "cell_type": "code",
   "execution_count": 6,
   "metadata": {},
   "outputs": [
    {
     "name": "stdout",
     "output_type": "stream",
     "text": [
      "      Name  Points  Questions  Percent\n",
      "0     Matt       3          9    33.33\n",
      "1     Matt       4          6    66.67\n",
      "2     Matt       4          4   100.00\n",
      "3     Matt       1          1   100.00\n",
      "4  Knedgen       1          1   100.00\n"
     ]
    }
   ],
   "source": [
    "Spanish.top_questions(\"\")"
   ]
  },
  {
   "cell_type": "code",
   "execution_count": null,
   "metadata": {},
   "outputs": [],
   "source": []
  }
 ],
 "metadata": {
  "kernelspec": {
   "display_name": "Python 3",
   "language": "python",
   "name": "python3"
  },
  "language_info": {
   "codemirror_mode": {
    "name": "ipython",
    "version": 3
   },
   "file_extension": ".py",
   "mimetype": "text/x-python",
   "name": "python",
   "nbconvert_exporter": "python",
   "pygments_lexer": "ipython3",
   "version": "3.8.5"
  }
 },
 "nbformat": 4,
 "nbformat_minor": 4
}
